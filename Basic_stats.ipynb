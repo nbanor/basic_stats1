{
 "cells": [
  {
   "cell_type": "markdown",
   "metadata": {},
   "source": [
    "## Script to calculate Basic Statistics"
   ]
  },
  {
   "cell_type": "markdown",
   "metadata": {},
   "source": [
    "### Equation for the mean:   $\\mu_x = \\sum_{i=1}^{N}\\frac{x_i}{N}$\n",
    "\n",
    "### Equation for the standard deviation:  $\\sigma_x = \\sqrt{\\sum_{i=1}^{N}\\left(x_i - \\mu \\right)^2}\\frac{1}{N-1}$\n",
    "\n",
    "\n",
    "**Instructions:**\n",
    "\n",
    "**(1) Before you write code, write an algorithm that describes the sequence of steps you will take to compute the mean and standard deviation for your samples.  The algorithm can be written in pseudocode or as an itemized list.***\n",
    "\n",
    "**(2) Use 'for' loops to help yourself compute the average and standard deviation.**\n",
    "\n",
    "**(3) Use for loops and conditional operators to count the number of samples within $1\\sigma$ of the mean.**\n",
    "\n",
    "**Note:** It is not acceptable to use the pre-programmed routines for mean and st. dev., e.g. numpy.mean()"
   ]
  },
  {
   "cell_type": "markdown",
   "metadata": {},
   "source": [
    "### Edit this box to write an algorithm for computing the mean and std. deviation.\n",
    "\n",
    "### For the mean: \n",
    "x = 0\n",
    "for N in list_1:\n",
    "    x += N\n",
    "print(x/N)\n",
    "\n",
    "\n",
    "### For the std. deviation:\n",
    "mu\n",
    "\n",
    "$\\sigma_x = \\sqrt{\\sum_{i=1}^{N}\\left(x_i - \\mu \\right)^2}\\frac{1}{N-1}$\n",
    "\n",
    "\n",
    "variance = sum([((x - mu) ** 2) for x in list_1]) / len(list_1)\n",
    "std = variance ** 0.5\n",
    "print(\"Standard deviation is: \" +str(std))\n"
   ]
  },
  {
   "cell_type": "markdown",
   "metadata": {},
   "source": [
    "### Write your code using instructions in the cells below."
   ]
  },
  {
   "cell_type": "markdown",
   "metadata": {},
   "source": [
    "# Put your Header information here.  Name, creation date, version, etc.\n",
    "\n",
    "### Name: Dom Banor\n",
    "### Creation Date: Sept. 19, 2023\n",
    "### Version: Python 3?\n"
   ]
  },
  {
   "cell_type": "code",
   "execution_count": 5,
   "metadata": {},
   "outputs": [],
   "source": [
    "# Import the matplotlib module here.  No other modules should be used.\n",
    "import matplotlib as mp\n",
    "import matplotlib.pyplot as plt"
   ]
  },
  {
   "cell_type": "code",
   "execution_count": 6,
   "metadata": {},
   "outputs": [],
   "source": [
    "# Create a list variable that contains at least 25 elements.  You can create this list any number of ways.  \n",
    "# This will be your sample.\n",
    "\n",
    "list_1 = [1, 2, 3, 4, 5, 6, 7, 8, 9, 10, 11, 12, 13, 14, 15, 16, 17, 18, 19, 20, 21, 22, 23, 24, 25]"
   ]
  },
  {
   "cell_type": "code",
   "execution_count": 7,
   "metadata": {},
   "outputs": [
    {
     "name": "stdout",
     "output_type": "stream",
     "text": [
      "25\n"
     ]
    }
   ],
   "source": [
    "# Pretend you do not know how long x is; compute it's length, N, without using functions or modules.\n",
    "\n",
    "list_1 = [1, 2, 3, 4, 5, 6, 7, 8, 9, 10, 11, 12, 13, 14, 15, 16, 17, 18, 19, 20, 21, 22, 23, 24, 25]\n",
    "x = 0\n",
    "for N in list_1:\n",
    "    x += 1\n",
    "print(x)\n"
   ]
  },
  {
   "cell_type": "code",
   "execution_count": 19,
   "metadata": {},
   "outputs": [
    {
     "name": "stdout",
     "output_type": "stream",
     "text": [
      "13.0\n"
     ]
    }
   ],
   "source": [
    "# Compute the mean of the elements in list x.\n",
    "mu = x/N\n",
    "x = 0\n",
    "for N in list_1:\n",
    "    x += N\n",
    "print(x/N)"
   ]
  },
  {
   "cell_type": "code",
   "execution_count": 20,
   "metadata": {},
   "outputs": [
    {
     "name": "stdout",
     "output_type": "stream",
     "text": [
      "Variance is: 52.0\n",
      "Standard deviation is: 7.211102550927978\n"
     ]
    }
   ],
   "source": [
    "# Compute the std deviation, using the mean and the elements in list x.\n",
    "list_1 = [1, 2, 3, 4, 5, 6, 7, 8, 9, 10, 11, 12, 13, 14, 15, 16, 17, 18, 19, 20, 21, 22, 23, 24, 25]\n",
    "\n",
    "mu\n",
    "\n",
    "variance = sum([((x - mu) ** 2) for x in list_1]) / len(list_1)\n",
    "\n",
    "std = variance ** 0.5\n",
    "\n",
    "print(\"Variance is: \" +str(variance))\n",
    "\n",
    "print(\"Standard deviation is: \" +str(std))"
   ]
  },
  {
   "cell_type": "code",
   "execution_count": 21,
   "metadata": {},
   "outputs": [
    {
     "name": "stdout",
     "output_type": "stream",
     "text": [
      "The std is: 7.211102550927978\n",
      "The mean is: 13.0\n"
     ]
    }
   ],
   "source": [
    "# Use the 'print' command to report the values of average (mu) and std. dev. (sigma).\n",
    "\n",
    "print(\"The std is: \"+str(std))\n",
    "print(\"The mean is: \"+str(mu))"
   ]
  },
  {
   "cell_type": "code",
   "execution_count": 26,
   "metadata": {},
   "outputs": [
    {
     "name": "stdout",
     "output_type": "stream",
     "text": [
      "The -1 std deviation of the mean is:  5.788897449072022\n",
      "The +1 std deviation of the mean is: 20.21110255092798\n"
     ]
    }
   ],
   "source": [
    "# Count the number of values that are within +/- 1 std. deviation of the mean. Find X from Zscore? \n",
    "# A normal distribution will have approx. 68% of the values within this range.  \n",
    "# Based on this criteria is the list normally distributed?\n",
    "\n",
    "# X = Z(sigma)+mu\n",
    "\n",
    "X_neg1 = (-1)*(std)+mu\n",
    "neg = str(X_neg1)\n",
    "print(\"The -1 std deviation of the mean is: \", str(X_neg1))\n",
    "\n",
    "X_pos1 = (1)*(std)+mu\n",
    "pos = str(X_pos1)\n",
    "print(\"The +1 std deviation of the mean is:\", str(X_pos1))"
   ]
  },
  {
   "cell_type": "code",
   "execution_count": 34,
   "metadata": {},
   "outputs": [
    {
     "name": "stdout",
     "output_type": "stream",
     "text": [
      "The data is normally distributed because 5.788897449072022 and 20.21110255092798 are between 1, 2, or 3 std deviations away from the mean. Therefore, it is not skewed.\n"
     ]
    }
   ],
   "source": [
    "# Use print() and if statements to report a message about whether the data is normally distributed.\n",
    "if X_neg1 > 0.67:\n",
    "    if X_pos1 > 0.68:\n",
    "        print(\"The data is normally distributed because \" + \"\"+ neg+ \" \" \"and \"+ \"\"+ pos+ \" \" \"are between 1, 2, or 3 std deviations away from the mean. Therefore, it is not skewed.\")\n",
    "else:\n",
    "    print(\"The data is not normally distributed.\")"
   ]
  },
  {
   "cell_type": "code",
   "execution_count": 25,
   "metadata": {},
   "outputs": [
    {
     "data": {
      "image/png": "[encoded data removed]",
      "text/plain": [
       "<Figure size 432x288 with 1 Axes>"
      ]
     },
     "metadata": {
      "needs_background": "light"
     },
     "output_type": "display_data"
    }
   ],
   "source": [
    "### Use Matplotlb.pyplot to make a histogram of x.\n",
    "\n",
    "plt.hist(list_1, bins = 60, color='b', edgecolor='b')\n",
    "plt.xlabel(\"Value\")\n",
    "plt.ylabel('Frequency')\n",
    "plt.title(\"Histogram of X\")\n",
    "plt.show()"
   ]
  },
  {
   "cell_type": "markdown",
   "metadata": {
    "collapsed": true,
    "jupyter": {
     "outputs_hidden": true
    }
   },
   "source": [
    "### OCG 593 students, look up an equation for Skewness and write code to compute the skewness. \n",
    "#### Compute the skewness and report whether the sample is normally distributed."
   ]
  },
  {
   "cell_type": "code",
   "execution_count": 53,
   "metadata": {},
   "outputs": [
    {
     "name": "stdout",
     "output_type": "stream",
     "text": [
      "The skewsness is: 0.0\n"
     ]
    }
   ],
   "source": [
    "n = 25\n",
    "mu = 13.0\n",
    "std = 7.211102550927978\n",
    "total = sum(list_1)\n",
    "y_list = [y - mu for y in list_1]\n",
    "sum_ylist = ((sum(y_list)**3/(std))**3)\n",
    "\n",
    "skewness = ((n)/((n-1)*(n-2)))*(sum_ylist)\n",
    "print(\"The skewsness is: \" +str(skewness))"
   ]
  },
  {
   "cell_type": "code",
   "execution_count": 8,
   "metadata": {},
   "outputs": [],
   "source": [
    "# THe skewness looks very very wrong!!"
   ]
  },
  {
   "cell_type": "code",
   "execution_count": 52,
   "metadata": {},
   "outputs": [
    {
     "name": "stdout",
     "output_type": "stream",
     "text": [
      "0.0\n"
     ]
    }
   ],
   "source": [
    "# to confirm my calculations, I used the scipy library. \n",
    "\n",
    "from scipy.stats import skew\n",
    "print(skew(list_1, bias = False))"
   ]
  },
  {
   "cell_type": "code",
   "execution_count": null,
   "metadata": {},
   "outputs": [],
   "source": []
  }
 ],
 "metadata": {
  "kernelspec": {
   "display_name": "Python 3 (ipykernel)",
   "language": "python",
   "name": "python3"
  },
  "language_info": {
   "codemirror_mode": {
    "name": "ipython",
    "version": 3
   },
   "file_extension": ".py",
   "mimetype": "text/x-python",
   "name": "python",
   "nbconvert_exporter": "python",
   "pygments_lexer": "ipython3",
   "version": "3.11.4"
  }
 },
 "nbformat": 4,
 "nbformat_minor": 4
}
